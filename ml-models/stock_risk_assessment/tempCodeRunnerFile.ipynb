import praw
import pandas as pd
from transformers import BertTokenizer, BertForSequenceClassification
import torch
import nltk
import time
from tqdm import tqdm
from googleapiclient.discovery import build
import os
import sys
import io
import yfinance as yf  # Import yfinance to fetch beta
from sklearn.metrics import mean_squared_error
from statsmodels.tsa.arima.model import ARIMA
from statsmodels.graphics.tsaplots import plot_acf, plot_pacf
from statsmodels.tsa.seasonal import seasonal_decompose
import warnings